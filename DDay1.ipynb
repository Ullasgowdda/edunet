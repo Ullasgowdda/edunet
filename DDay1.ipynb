{
 "cells": [
  {
   "cell_type": "code",
   "execution_count": 1,
   "id": "c38bba98",
   "metadata": {},
   "outputs": [
    {
     "name": "stdout",
     "output_type": "stream",
     "text": [
      "hello world\n"
     ]
    }
   ],
   "source": [
    "print(\"hello world\")"
   ]
  },
  {
   "cell_type": "code",
   "execution_count": 2,
   "id": "8e4f0374",
   "metadata": {},
   "outputs": [
    {
     "data": {
      "text/plain": [
       "5"
      ]
     },
     "execution_count": 2,
     "metadata": {},
     "output_type": "execute_result"
    }
   ],
   "source": [
    "Ullas=5\n",
    "Ullas"
   ]
  },
  {
   "cell_type": "code",
   "execution_count": 3,
   "id": "c0ebd2aa",
   "metadata": {},
   "outputs": [
    {
     "data": {
      "text/plain": [
       "25"
      ]
     },
     "execution_count": 3,
     "metadata": {},
     "output_type": "execute_result"
    }
   ],
   "source": [
    "Ullas55=25\n",
    "Ullas55"
   ]
  },
  {
   "cell_type": "code",
   "execution_count": 5,
   "id": "799d0433",
   "metadata": {},
   "outputs": [
    {
     "data": {
      "text/plain": [
       "55"
      ]
     },
     "execution_count": 5,
     "metadata": {},
     "output_type": "execute_result"
    }
   ],
   "source": [
    "Ullas_gowdda=55\n",
    "Ullas_gowdda"
   ]
  },
  {
   "cell_type": "code",
   "execution_count": 9,
   "id": "5d11f482",
   "metadata": {},
   "outputs": [
    {
     "name": "stdout",
     "output_type": "stream",
     "text": [
      "30\n",
      "30\n"
     ]
    }
   ],
   "source": [
    "x=10\n",
    "y=20\n",
    "z=x+y\n",
    "print(z)\n",
    "print(x+y)"
   ]
  },
  {
   "cell_type": "code",
   "execution_count": 10,
   "id": "b5ce8888",
   "metadata": {},
   "outputs": [
    {
     "name": "stdout",
     "output_type": "stream",
     "text": [
      "enter the value20\n"
     ]
    }
   ],
   "source": [
    "x=int(input(\"enter the value\"))"
   ]
  },
  {
   "cell_type": "code",
   "execution_count": 11,
   "id": "7d227dcd",
   "metadata": {},
   "outputs": [
    {
     "data": {
      "text/plain": [
       "20"
      ]
     },
     "execution_count": 11,
     "metadata": {},
     "output_type": "execute_result"
    }
   ],
   "source": [
    "x"
   ]
  },
  {
   "cell_type": "code",
   "execution_count": 12,
   "id": "e5e678f6",
   "metadata": {},
   "outputs": [
    {
     "data": {
      "text/plain": [
       "int"
      ]
     },
     "execution_count": 12,
     "metadata": {},
     "output_type": "execute_result"
    }
   ],
   "source": [
    "type(x)"
   ]
  },
  {
   "cell_type": "code",
   "execution_count": 13,
   "id": "b0740cce",
   "metadata": {},
   "outputs": [
    {
     "name": "stdout",
     "output_type": "stream",
     "text": [
      "enter the value55\n"
     ]
    }
   ],
   "source": [
    "y=input(\"enter the value\")"
   ]
  },
  {
   "cell_type": "code",
   "execution_count": 14,
   "id": "e187508e",
   "metadata": {},
   "outputs": [
    {
     "data": {
      "text/plain": [
       "str"
      ]
     },
     "execution_count": 14,
     "metadata": {},
     "output_type": "execute_result"
    }
   ],
   "source": [
    "type(y)"
   ]
  },
  {
   "cell_type": "code",
   "execution_count": 15,
   "id": "bfec5ab0",
   "metadata": {},
   "outputs": [
    {
     "data": {
      "text/plain": [
       "30"
      ]
     },
     "execution_count": 15,
     "metadata": {},
     "output_type": "execute_result"
    }
   ],
   "source": [
    "z"
   ]
  },
  {
   "cell_type": "code",
   "execution_count": 16,
   "id": "e37a78a6",
   "metadata": {},
   "outputs": [
    {
     "name": "stdout",
     "output_type": "stream",
     "text": [
      "250000\n"
     ]
    }
   ],
   "source": [
    "profit_q1 =50000\n",
    "profit_q2 =75000\n",
    "profit_q3 =60000\n",
    "profit_q4 =65000\n",
    "total_profit = profit_q1 + profit_q2 + profit_q3 +profit_q4\n",
    "print(total_profit)"
   ]
  },
  {
   "cell_type": "code",
   "execution_count": 17,
   "id": "6858d96d",
   "metadata": {},
   "outputs": [
    {
     "name": "stdout",
     "output_type": "stream",
     "text": [
      "False\n"
     ]
    }
   ],
   "source": [
    "password = \"secural\"\n",
    "is_valid_length = len(password) >= 8\n",
    "print(is_valid_length)"
   ]
  },
  {
   "cell_type": "code",
   "execution_count": null,
   "id": "8ae70796",
   "metadata": {},
   "outputs": [],
   "source": []
  },
  {
   "cell_type": "code",
   "execution_count": 2,
   "id": "0414d081",
   "metadata": {},
   "outputs": [
    {
     "name": "stdout",
     "output_type": "stream",
     "text": [
      "total members in the house50\n",
      "some members are missing25\n",
      "after flood total members in the house 25\n",
      "missing members are arrived\n",
      "some members are coming with them5\n",
      "total memberrs are 55\n"
     ]
    }
   ],
   "source": [
    "totalmembers=int(input(\"total members in the house\"))\n",
    "a=int(input(\"some members are missing\"))\n",
    "y=totalmembers-a\n",
    "print(\"after flood total members in the house\",y)     \n",
    "print(\"missing members are arrived\")\n",
    "b=int(input(\"some members are coming with them\"))\n",
    "z=y+a+b\n",
    "print(\"total memberrs are\",z)\n"
   ]
  },
  {
   "cell_type": "code",
   "execution_count": null,
   "id": "8380027b",
   "metadata": {},
   "outputs": [],
   "source": []
  },
  {
   "cell_type": "code",
   "execution_count": 2,
   "id": "0f82b067",
   "metadata": {},
   "outputs": [
    {
     "name": "stdout",
     "output_type": "stream",
     "text": [
      "total members in the house100\n",
      "some members are missing50\n",
      "after flood total members in the house 50\n",
      "missing members are arrived\n",
      "some members are coming with them25\n",
      "total memberrs are 125\n"
     ]
    }
   ],
   "source": [
    "totalmembers=int(input(\"total members in the house\"))\n",
    "a=int(input(\"some members are missing\"))\n",
    "y=totalmembers-a\n",
    "print(\"after flood total members in the house\",y)\n",
    "print(\"missing members are arrived\")\n",
    "b=int(input(\"some members are coming with them\"))\n",
    "z=y+a+b\n",
    "print(\"total memberrs are\",z)\n"
   ]
  },
  {
   "cell_type": "code",
   "execution_count": 1,
   "id": "73d93e98",
   "metadata": {},
   "outputs": [
    {
     "name": "stdout",
     "output_type": "stream",
     "text": [
      "360\n",
      "140\n"
     ]
    }
   ],
   "source": [
    "a=45\n",
    "students=8\n",
    "amount=a*students\n",
    "print(amount)\n",
    "totalpaid=500\n",
    "remain=totalpaid-amount\n",
    "print(remain)"
   ]
  },
  {
   "cell_type": "code",
   "execution_count": 4,
   "id": "b0cf2711",
   "metadata": {},
   "outputs": [
    {
     "name": "stdout",
     "output_type": "stream",
     "text": [
      "18.0\n"
     ]
    }
   ],
   "source": [
    "temp1=20\n",
    "temp2=16\n",
    "temp=(temp1+temp2)/2\n",
    "if (temp1<=1):\n",
    "    print(temp1)\n",
    "else:\n",
    "    (temp2 >= 1)\n",
    "print(temp)\n"
   ]
  },
  {
   "cell_type": "code",
   "execution_count": 13,
   "id": "3d5fecc5",
   "metadata": {},
   "outputs": [
    {
     "data": {
      "text/plain": [
       "'llasgo'"
      ]
     },
     "execution_count": 13,
     "metadata": {},
     "output_type": "execute_result"
    }
   ],
   "source": [
    "name=\"Ullasgowdda\"\n",
    "name[1:-4]"
   ]
  },
  {
   "cell_type": "code",
   "execution_count": 8,
   "id": "094538cf",
   "metadata": {},
   "outputs": [
    {
     "name": "stdout",
     "output_type": "stream",
     "text": [
      "sesion in edunet \n",
      "Welcome to all we are sesion in edunet \n"
     ]
    }
   ],
   "source": [
    "name=\"Welcome to all we are sesion in edunet foundtion we are learing AI\"\n",
    "print(name[22:39])\n",
    "print(name[0:39])"
   ]
  },
  {
   "cell_type": "code",
   "execution_count": null,
   "id": "8c743d87",
   "metadata": {},
   "outputs": [],
   "source": []
  }
 ],
 "metadata": {
  "kernelspec": {
   "display_name": "Python 3 (ipykernel)",
   "language": "python",
   "name": "python3"
  },
  "language_info": {
   "codemirror_mode": {
    "name": "ipython",
    "version": 3
   },
   "file_extension": ".py",
   "mimetype": "text/x-python",
   "name": "python",
   "nbconvert_exporter": "python",
   "pygments_lexer": "ipython3",
   "version": "3.9.12"
  }
 },
 "nbformat": 4,
 "nbformat_minor": 5
}
