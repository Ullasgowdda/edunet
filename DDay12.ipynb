{
 "cells": [
  {
   "cell_type": "code",
   "execution_count": 1,
   "id": "e226d45c",
   "metadata": {},
   "outputs": [],
   "source": [
    "f=[1,20,20.0,\"hello\"]"
   ]
  },
  {
   "cell_type": "code",
   "execution_count": 2,
   "id": "468b62ea",
   "metadata": {},
   "outputs": [
    {
     "data": {
      "text/plain": [
       "[1, 20, 20.0, 'hello']"
      ]
     },
     "execution_count": 2,
     "metadata": {},
     "output_type": "execute_result"
    }
   ],
   "source": [
    "f"
   ]
  },
  {
   "cell_type": "code",
   "execution_count": 3,
   "id": "d23c9290",
   "metadata": {},
   "outputs": [
    {
     "data": {
      "text/plain": [
       "list"
      ]
     },
     "execution_count": 3,
     "metadata": {},
     "output_type": "execute_result"
    }
   ],
   "source": [
    "type(f)"
   ]
  },
  {
   "cell_type": "code",
   "execution_count": 4,
   "id": "0c80852f",
   "metadata": {},
   "outputs": [
    {
     "name": "stdout",
     "output_type": "stream",
     "text": [
      "3\n"
     ]
    }
   ],
   "source": [
    "b=[10,12,29,24,26,56,10,10]\n",
    "count=b.count(10)\n",
    "print(count)"
   ]
  },
  {
   "cell_type": "code",
   "execution_count": 5,
   "id": "f667890e",
   "metadata": {},
   "outputs": [],
   "source": [
    "name=[\"deepak\",\"abhi\",\"praveen\",\"raju\",\"patil\",\"ullas\"]"
   ]
  },
  {
   "cell_type": "code",
   "execution_count": 6,
   "id": "6262d166",
   "metadata": {},
   "outputs": [
    {
     "name": "stdout",
     "output_type": "stream",
     "text": [
      "1\n"
     ]
    }
   ],
   "source": [
    "x=0\n",
    "for i in name:\n",
    "    if i==\"patil\":\n",
    "        x=x+1\n",
    "        \n",
    "print(x)"
   ]
  },
  {
   "cell_type": "code",
   "execution_count": 9,
   "id": "9702b918",
   "metadata": {},
   "outputs": [
    {
     "data": {
      "text/plain": [
       "tuple"
      ]
     },
     "execution_count": 9,
     "metadata": {},
     "output_type": "execute_result"
    }
   ],
   "source": [
    "name=(\"baba\",10.0,\"chintu\",\"pintu\",100.00000)\n",
    "type(name)"
   ]
  },
  {
   "cell_type": "code",
   "execution_count": 11,
   "id": "25b96c9a",
   "metadata": {},
   "outputs": [
    {
     "name": "stdout",
     "output_type": "stream",
     "text": [
      "12 34 56 78\n"
     ]
    }
   ],
   "source": [
    "a=12\n",
    "b=34\n",
    "c=56\n",
    "d=78\n",
    "print(a,b,c,d)"
   ]
  },
  {
   "cell_type": "code",
   "execution_count": 13,
   "id": "e451a632",
   "metadata": {},
   "outputs": [
    {
     "name": "stdout",
     "output_type": "stream",
     "text": [
      "<class 'tuple'>\n",
      "4\n"
     ]
    }
   ],
   "source": [
    "my_tuple1=(9990,8880,7770,6660)\n",
    "my_tuple2=tuple((1,2,3,4))\n",
    "print(type(my_tuple1))\n",
    "print(len(my_tuple2))"
   ]
  },
  {
   "cell_type": "code",
   "execution_count": 18,
   "id": "e4609f28",
   "metadata": {},
   "outputs": [
    {
     "name": "stdout",
     "output_type": "stream",
     "text": [
      "4\n"
     ]
    }
   ],
   "source": [
    "name=(10,30,14,18,4)\n",
    "small=name[0]\n",
    "for i in name:\n",
    "    if i<small:\n",
    "        small=i\n",
    "print(small)"
   ]
  },
  {
   "cell_type": "code",
   "execution_count": 17,
   "id": "1f2ea291",
   "metadata": {},
   "outputs": [
    {
     "name": "stdout",
     "output_type": "stream",
     "text": [
      "30\n"
     ]
    }
   ],
   "source": [
    "name=(10,30,14,18,4)\n",
    "big=name[0]\n",
    "for i in name:\n",
    "    if i>big:\n",
    "        big=i\n",
    "print(big)"
   ]
  },
  {
   "cell_type": "code",
   "execution_count": null,
   "id": "b83eda70",
   "metadata": {},
   "outputs": [],
   "source": []
  }
 ],
 "metadata": {
  "kernelspec": {
   "display_name": "Python 3 (ipykernel)",
   "language": "python",
   "name": "python3"
  },
  "language_info": {
   "codemirror_mode": {
    "name": "ipython",
    "version": 3
   },
   "file_extension": ".py",
   "mimetype": "text/x-python",
   "name": "python",
   "nbconvert_exporter": "python",
   "pygments_lexer": "ipython3",
   "version": "3.9.12"
  }
 },
 "nbformat": 4,
 "nbformat_minor": 5
}
